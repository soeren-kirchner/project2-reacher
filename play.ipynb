{
 "cells": [
  {
   "cell_type": "markdown",
   "source": [
    "# Play Agent"
   ],
   "metadata": {}
  },
  {
   "cell_type": "code",
   "execution_count": 1,
   "source": [
    "import random\n",
    "import torch\n",
    "import time\n",
    "import numpy as np\n",
    "from collections import deque\n",
    "import matplotlib.pyplot as plt\n",
    "%matplotlib inline\n",
    "\n",
    "from ddpg_agent import Agent, ReplayBuffer\n",
    "\n",
    "from unityagents import UnityEnvironment\n",
    "import numpy as np\n",
    "\n",
    "\n",
    "# Load Reacher env with 20 agents\n",
    "env = UnityEnvironment(file_name='Reacher')"
   ],
   "outputs": [
    {
     "output_type": "stream",
     "name": "stdout",
     "text": [
      "Mono path[0] = '/Users/soeren/Library/Mobile Documents/com~apple~CloudDocs/development/udacity/project2-reacher/Reacher.app/Contents/Resources/Data/Managed'\n",
      "Mono config path = '/Users/soeren/Library/Mobile Documents/com~apple~CloudDocs/development/udacity/project2-reacher/Reacher.app/Contents/MonoBleedingEdge/etc'\n"
     ]
    },
    {
     "output_type": "stream",
     "name": "stderr",
     "text": [
      "INFO:unityagents:\n",
      "'Academy' started successfully!\n",
      "Unity Academy name: Academy\n",
      "        Number of Brains: 1\n",
      "        Number of External Brains : 1\n",
      "        Lesson number : 0\n",
      "        Reset Parameters :\n",
      "\t\tgoal_size -> 5.0\n",
      "\t\tgoal_speed -> 1.0\n",
      "Unity brain name: ReacherBrain\n",
      "        Number of Visual Observations (per agent): 0\n",
      "        Vector Observation space type: continuous\n",
      "        Vector Observation space size (per agent): 33\n",
      "        Number of stacked Vector Observation: 1\n",
      "        Vector Action space type: continuous\n",
      "        Vector Action space size (per agent): 4\n",
      "        Vector Action descriptions: , , , \n"
     ]
    }
   ],
   "metadata": {}
  },
  {
   "cell_type": "code",
   "execution_count": 2,
   "source": [
    "# get the default brain\n",
    "brain_name = env.brain_names[0]\n",
    "brain = env.brains[brain_name]"
   ],
   "outputs": [],
   "metadata": {}
  },
  {
   "cell_type": "markdown",
   "source": [
    "### Some Helpers"
   ],
   "metadata": {}
  },
  {
   "cell_type": "code",
   "execution_count": 3,
   "source": [
    "def gather(env_info):\n",
    "    rewards = env_info.rewards\n",
    "    next_states = env_info.vector_observations\n",
    "    dones = env_info.local_done\n",
    "    return rewards, next_states, dones\n",
    "\n",
    "def load(agent, noise_type=\"normal\"):\n",
    "    agent.actor_regular.load_state_dict(torch.load(f'checkpoint_actor_{noise_type}.pth'))\n",
    "    agent.critic_regular.load_state_dict(torch.load(f'checkpoint_critic_{noise_type}.pth'))"
   ],
   "outputs": [],
   "metadata": {}
  },
  {
   "cell_type": "markdown",
   "source": [
    "### Play"
   ],
   "metadata": {}
  },
  {
   "cell_type": "code",
   "execution_count": null,
   "source": [
    "def ddpg_play(n_episodes=1, max_t=1000, noise_type=\"normal\"):\n",
    "    \n",
    "    env_info = env.reset(train_mode=False)[brain_name]      # reset the environment    \n",
    "    \n",
    "    action_size = brain.vector_action_space_size\n",
    "    state_size = env_info.vector_observations.shape[1]\n",
    "\n",
    "    agent = Agent(state_size, action_size, noise_type=noise_type)\n",
    "    load(agent, noise_type)\n",
    "\n",
    "    for _ in range(1, n_episodes+1):\n",
    "        env_info = env.reset(train_mode=False)[brain_name]       # reset the environment    \n",
    "        states = env_info.vector_observations                   # get the current state (for each agent)\n",
    "        agent.reset()\n",
    "        \n",
    "        for _ in range(max_t):\n",
    "            actions = agent.act(states, False)\n",
    "            env_info = env.step(actions)[brain_name]            # send all actions to the environment\n",
    "            rewards, next_states, dones = gather(env_info)\n",
    "            states = next_states                                # roll over states to next time step\n",
    "            \n",
    "\n",
    "ddpg_play(noise_type=\"ou\")\n"
   ],
   "outputs": [],
   "metadata": {
    "scrolled": false
   }
  },
  {
   "cell_type": "code",
   "execution_count": null,
   "source": [],
   "outputs": [],
   "metadata": {}
  }
 ],
 "metadata": {
  "kernelspec": {
   "display_name": "Python 3 (ipykernel)",
   "language": "python",
   "name": "python3"
  },
  "language_info": {
   "codemirror_mode": {
    "name": "ipython",
    "version": 3
   },
   "file_extension": ".py",
   "mimetype": "text/x-python",
   "name": "python",
   "nbconvert_exporter": "python",
   "pygments_lexer": "ipython3",
   "version": "3.7.4"
  }
 },
 "nbformat": 4,
 "nbformat_minor": 2
}